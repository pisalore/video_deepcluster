{
 "cells": [
  {
   "cell_type": "markdown",
   "metadata": {
    "slideshow": {
     "slide_type": "slide"
    }
   },
   "source": [
    "<p style=\"text-align:right; font-size:14px;\"> University of Studies of Florence\n",
    "<p style=\"text-align:right; font-size:14px;\"> Department of Engineering Information </p>\n",
    "<p style=\"text-align:right; font-size:14px;\"> Pistoia, April 1, 2021 </p>\n"
   ]
  },
  {
   "cell_type": "markdown",
   "metadata": {
    "slideshow": {
     "slide_type": "-"
    }
   },
   "source": [
    "<h1 align=center>Visual and Multimedia Recognition</h1>\n",
    "<h2 align=center>\n",
    "Unsupervised Learning with Deepcluster on VID Dataset\n",
    "</h1>\n",
    "\n",
    "<br>\n"
   ]
  },
  {
   "cell_type": "code",
   "execution_count": 1,
   "metadata": {
    "pycharm": {
     "name": "#%%\n"
    },
    "slideshow": {
     "slide_type": "-"
    }
   },
   "outputs": [],
   "source": [
    "__AUTHOR__ = {'lp': (\"Lorenzo Pisaneschi\",\n",
    "                    \"lorenzo.pisaneschi1@stud.unifi.it\",\n",
    "                     \"https://github.com/pisalore/video_deepcluster\")}\n",
    "\n",
    "__TOPICS__ = ['Unsupervised Learning', 'Deep Learning', 'k-Means Clustering', 'AlexNet', 'Vid Dataset']\n",
    "\n",
    "\n",
    "__KEYWORDS__ = ['Python', 'Pytorch', 'AI', 'Machine Learning', 'clustering']"
   ]
  },
  {
   "cell_type": "markdown",
   "metadata": {
    "slideshow": {
     "slide_type": "slide"
    }
   },
   "source": [
    "<h1>Introduction</h1>\n",
    "\n",
    "AI and Machine Learning algorithms are increasingly pervasive in daily life, with the result we need ever larger\n",
    "dataset and ever more annotated data for our supervised learning algorithms. For this reason, unsupervised learning is\n",
    "becoming important, in order to obtain useful information from input data to be maybe used later in a supervised learning\n",
    "process."
   ]
  },
  {
   "cell_type": "markdown",
   "metadata": {
    "slideshow": {
     "slide_type": "subslide"
    }
   },
   "source": [
    "<h3> Unsupervised Learning Challanges </h3>\n",
    "\n",
    "Obviously, since our algorithm does not know how the output should be, we have to evaluate if the algorithm has learnt\n",
    "something useful to our purpose. For example, using clustering algorithms, it is crucial to understand if data are\n",
    "collected in a desired way for further inference on data.\n",
    "\n",
    "<br>\n",
    "<img style=\"display: block;\n",
    "  margin-left: auto;\n",
    "  margin-right: auto;\n",
    "  width: 50%;\" src=\"slides/images/img1.png\" width=\"500\">\n",
    "\n"
   ]
  },
  {
   "cell_type": "markdown",
   "metadata": {
    "slideshow": {
     "slide_type": "subslide"
    }
   },
   "source": [
    "<h3> Thrilling idea </h3>\n",
    "\n",
    "The following points have to be fixed:"
   ]
  },
  {
   "cell_type": "markdown",
   "metadata": {
    "slideshow": {
     "slide_type": "fragment"
    }
   },
   "source": [
    "- Well tested pretrained CNNs are available, like those\n",
    "obtained starting from famous ImageNet dataset, a fully supervised dataset consisting\n",
    "in one million of images distributed over 1000 categories."
   ]
  },
  {
   "cell_type": "markdown",
   "metadata": {
    "slideshow": {
     "slide_type": "fragment"
    }
   },
   "source": [
    "- Unsupervised learning algorithms can be applied on data from any domain, and unsupervised methods\n",
    "could be applied to deep learning models."
   ]
  },
  {
   "cell_type": "markdown",
   "metadata": {
    "slideshow": {
     "slide_type": "fragment"
    }
   },
   "source": [
    "- We'd like to have greater dataset to perform ever complex tasks with ever more data."
   ]
  },
  {
   "cell_type": "markdown",
   "metadata": {
    "slideshow": {
     "slide_type": "fragment"
    }
   },
   "source": [
    "So, why not alternating clustering and convnet weights update using predicted cluster\n",
    "assignments and build a classification model in order to annotate data without\n",
    "any manual preprocessing?"
   ]
  },
  {
   "cell_type": "markdown",
   "metadata": {
    "slideshow": {
     "slide_type": "slide"
    }
   },
   "source": [
    "<h1> Deepcluster </h1>\n",
    "\n",
    "Facebook AI research has come in help in this direction, developing a new modern approach called Deepcluster.\n",
    "\n",
    "As stated above, the main idea of deepcluster is to exploit both CNNs and clustering to create an unsupervised algorithm\n",
    "which is able to obtain useful generalized visual features.\n",
    "\n",
    "Again, the main goal is the developing of a scalable domain independent model with and end-to-end training (using both input\n",
    "and output for weights optimization).\n"
   ]
  },
  {
   "cell_type": "markdown",
   "metadata": {
    "slideshow": {
     "slide_type": "subslide"
    }
   },
   "source": [
    "<h3> How does deepclustering works? </h3>\n",
    "\n",
    "<br>\n",
    "<img style=\"display: block;\n",
    "  margin-left: auto;\n",
    "  margin-right: auto;\n",
    "  width: 50%;\" src=\"slides/images/img2.png\" width=\"500\">\n",
    "\n",
    "The idea of deepcluster is simple, and it is illustrated in the figure above.\n",
    "\n",
    "1. First, features are computed using the chosen convolutional neural network.\n",
    "2. The obtained features are clustered using a clustering algorithm.\n",
    "3. The cluster assignments are then used as pseudo-labels to optimize the convent using backpropagation."
   ]
  },
  {
   "cell_type": "markdown",
   "metadata": {
    "slideshow": {
     "slide_type": "subslide"
    }
   },
   "source": [
    "<h3> ... a little more in detail </h3>\n",
    "\n",
    "* Given $ f_\\theta(x_n) $ the convent features mapping using an image $x_n $\n",
    "* Given the chosen clustering algorithm (k-means)\n",
    "* Given $ y_n $ as the cluster assignments and $ C $ as the centroids matrix of dimension $ d\\times k $\n",
    "\n",
    "We want to solve this problem:\n",
    "\n",
    "$\n",
    "\\begin{align}\n",
    "\\label{eq:kmeans}\n",
    "  \\min_{C \\in \\mathbb{R}^{d\\times k}}\n",
    "  \\frac{1}{N}\n",
    "  \\sum_{n=1}^N\n",
    "  \\min_{y_n \\in \\{0,1\\}^{k}}\n",
    "  \\| f_\\theta(x_n) -  C y_n \\|_2^2\n",
    "  \\quad\n",
    "  \\text{such that}\n",
    "  \\quad\n",
    "  y_n^\\top 1_k = 1.\n",
    "  \\end{align}\n",
    "$\n",
    "\n",
    "Which result is composed by cluster assignments used after as pseudo-labels.\n",
    "\n",
    "Then, weights are updated optimizing the following problem:\n",
    "\n",
    "$\\begin{align}\n",
    "\\min_{\\theta, W} \\frac{1}{N} \\sum_{n=1}^N \\ell\\left(g_W\\left( f_\\theta(x_n) \\right), y_n\\right)\n",
    "\\end{align} $\n",
    "\n",
    "Where $ \\theta $ represents the mapping parameters and $ W $ are the classifier parameters,$ g_W$ is the classifier\n",
    "and $\\ell$ is the multinomial logistic loss function."
   ]
  },
  {
   "cell_type": "markdown",
   "metadata": {
    "slideshow": {
     "slide_type": "subslide"
    }
   },
   "source": [
    "<h3>Here we are!</h3>\n",
    "\n",
    "Once out deepcluster models is trained, we could use it as a \"classic\" classifier, maybe using fine tuning or\n",
    "transfer learning techniques.\n",
    "\n",
    "In this way, exploiting the pretraining with deepcluster, hopefully we could be able to generalize and automatically\n",
    "annotate our dataset of images.\n",
    "\n",
    "<br>\n",
    "<img style=\"display: block;\n",
    "  margin-left: auto;\n",
    "  margin-right: auto;\n",
    "  width: 80%;\" src=\"slides/images/img3.png\">"
   ]
  },
  {
   "cell_type": "markdown",
   "metadata": {},
   "source": [
    "<h1> VID Dataset </h1>\n",
    "\n",
    "\n"
   ]
  }
 ],
 "metadata": {
  "celltoolbar": "Slideshow",
  "kernelspec": {
   "display_name": "Python 3",
   "language": "python",
   "name": "python3"
  },
  "language_info": {
   "codemirror_mode": {
    "name": "ipython",
    "version": 3
   },
   "file_extension": ".py",
   "mimetype": "text/x-python",
   "name": "python",
   "nbconvert_exporter": "python",
   "pygments_lexer": "ipython3",
   "version": "3.8.5"
  }
 },
 "nbformat": 4,
 "nbformat_minor": 1
}
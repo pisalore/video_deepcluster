{
 "cells": [
  {
   "cell_type": "markdown",
   "metadata": {
    "slideshow": {
     "slide_type": "slide"
    }
   },
   "source": [
    "<p style=\"text-align:right; font-size:14px;\"> University of Studies of Florence\n",
    "<p style=\"text-align:right; font-size:14px;\"> Department of Engineering Information </p>\n",
    "<p style=\"text-align:right; font-size:14px;\"> Pistoia, April 1, 2021 </p>\n"
   ]
  },
  {
   "cell_type": "markdown",
   "metadata": {
    "slideshow": {
     "slide_type": "-"
    }
   },
   "source": [
    "<h1 align=center>Visual and Multimedia Recognition</h1>\n",
    "<h2 align=center>\n",
    "Unsupervised Learning with Deepcluster on VID Dataset\n",
    "</h1>\n",
    "\n",
    "<br>\n"
   ]
  },
  {
   "cell_type": "code",
   "execution_count": 1,
   "metadata": {
    "pycharm": {
     "name": "#%%\n"
    },
    "slideshow": {
     "slide_type": "-"
    }
   },
   "outputs": [],
   "source": [
    "__AUTHOR__ = {'lp': (\"Lorenzo Pisaneschi\",\n",
    "                    \"lorenzo.pisaneschi1@stud.unifi.it\",\n",
    "                     \"https://github.com/pisalore/video_deepcluster\")}\n",
    "\n",
    "__TOPICS__ = ['Unsupervised Learning', 'Deep Learning', 'k-Means Clustering', 'AlexNet', 'Vid Dataset']\n",
    "\n",
    "\n",
    "__KEYWORDS__ = ['Python', 'Pytorch', 'AI', 'Machine Learning', 'clustering']"
   ]
  },
  {
   "cell_type": "markdown",
   "metadata": {
    "slideshow": {
     "slide_type": "slide"
    }
   },
   "source": [
    "<h1>Introduction</h1>\n",
    "\n",
    "AI and Machine Learning algorithms are increasingly pervasive in daily life, with the result we need ever larger\n",
    "dataset and ever more annotated data for our supervised learning algorithms. For this reason, unsupervised learning is\n",
    "becoming important, in order to obtain useful information from input data to be maybe used later in a supervised learning\n",
    "process."
   ]
  },
  {
   "cell_type": "markdown",
   "metadata": {
    "slideshow": {
     "slide_type": "subslide"
    }
   },
   "source": [
    "<h3> Unsupervised Learning Challanges </h3>\n",
    "\n",
    "Obviously, since our algorithm does not know how the output should be, we have to evaluate if the algorithm has learnt\n",
    "something useful to our purpose. For example, using clustering algorithms, it is crucial to understand if data are\n",
    "collected in a desired way for further inference on data.\n",
    "\n",
    "<br>\n",
    "<img style=\"display: block;\n",
    "  margin-left: auto;\n",
    "  margin-right: auto;\n",
    "  width: 50%;\" src=\"slides/images/img1.png\" width=\"500\">\n",
    "\n"
   ]
  },
  {
   "cell_type": "markdown",
   "metadata": {
    "slideshow": {
     "slide_type": "subslide"
    }
   },
   "source": [
    "<h3> Thrilling idea </h3>\n",
    "\n",
    "The following points have to be fixed:"
   ]
  },
  {
   "cell_type": "markdown",
   "metadata": {
    "slideshow": {
     "slide_type": "fragment"
    }
   },
   "source": [
    "- Well tested pretrained CNNs are available, like those\n",
    "obtained starting from famous ImageNet dataset, a fully supervised dataset consisting\n",
    "in one million of images distributed over 1000 categories."
   ]
  },
  {
   "cell_type": "markdown",
   "metadata": {
    "slideshow": {
     "slide_type": "fragment"
    }
   },
   "source": [
    "- Unsupervised learning algorithms can be applied on data from any domain, and unsupervised methods\n",
    "could be applied to deep learning models."
   ]
  },
  {
   "cell_type": "markdown",
   "metadata": {
    "slideshow": {
     "slide_type": "fragment"
    }
   },
   "source": [
    "- We'd like to have greater dataset to perform ever complex tasks with ever more data."
   ]
  },
  {
   "cell_type": "markdown",
   "metadata": {
    "slideshow": {
     "slide_type": "fragment"
    }
   },
   "source": [
    "So, why not alternating clustering and convnet weights update using predicted cluster\n",
    "assignments and build a classification model in order to annotate data without\n",
    "any manual preprocessing?"
   ]
  },
  {
   "cell_type": "markdown",
   "source": [],
   "metadata": {
    "collapsed": false
   }
  }
 ],
 "metadata": {
  "celltoolbar": "Slideshow",
  "kernelspec": {
   "display_name": "Python 3",
   "language": "python",
   "name": "python3"
  },
  "language_info": {
   "codemirror_mode": {
    "name": "ipython",
    "version": 3
   },
   "file_extension": ".py",
   "mimetype": "text/x-python",
   "name": "python",
   "nbconvert_exporter": "python",
   "pygments_lexer": "ipython3",
   "version": "3.8.5"
  }
 },
 "nbformat": 4,
 "nbformat_minor": 1
}